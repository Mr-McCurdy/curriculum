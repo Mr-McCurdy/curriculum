{
 "cells": [
  {
   "cell_type": "code",
   "execution_count": 1,
   "metadata": {},
   "outputs": [
    {
     "name": "stdout",
     "output_type": "stream",
     "text": [
      "Requirement already satisfied: openai in /Users/gmccurdy/opt/anaconda3/lib/python3.9/site-packages (1.13.3)\n",
      "Requirement already satisfied: pydantic<3,>=1.9.0 in /Users/gmccurdy/opt/anaconda3/lib/python3.9/site-packages (from openai) (2.6.3)\n",
      "Requirement already satisfied: distro<2,>=1.7.0 in /Users/gmccurdy/opt/anaconda3/lib/python3.9/site-packages (from openai) (1.9.0)\n",
      "Requirement already satisfied: httpx<1,>=0.23.0 in /Users/gmccurdy/opt/anaconda3/lib/python3.9/site-packages (from openai) (0.27.0)\n",
      "Requirement already satisfied: tqdm>4 in /Users/gmccurdy/opt/anaconda3/lib/python3.9/site-packages (from openai) (4.66.2)\n",
      "Requirement already satisfied: typing-extensions<5,>=4.7 in /Users/gmccurdy/opt/anaconda3/lib/python3.9/site-packages (from openai) (4.9.0)\n",
      "Requirement already satisfied: sniffio in /Users/gmccurdy/opt/anaconda3/lib/python3.9/site-packages (from openai) (1.2.0)\n",
      "Requirement already satisfied: anyio<5,>=3.5.0 in /Users/gmccurdy/opt/anaconda3/lib/python3.9/site-packages (from openai) (3.5.0)\n",
      "Requirement already satisfied: idna>=2.8 in /Users/gmccurdy/opt/anaconda3/lib/python3.9/site-packages (from anyio<5,>=3.5.0->openai) (3.6)\n",
      "Requirement already satisfied: certifi in /Users/gmccurdy/opt/anaconda3/lib/python3.9/site-packages (from httpx<1,>=0.23.0->openai) (2024.2.2)\n",
      "Requirement already satisfied: httpcore==1.* in /Users/gmccurdy/opt/anaconda3/lib/python3.9/site-packages (from httpx<1,>=0.23.0->openai) (1.0.4)\n",
      "Requirement already satisfied: h11<0.15,>=0.13 in /Users/gmccurdy/opt/anaconda3/lib/python3.9/site-packages (from httpcore==1.*->httpx<1,>=0.23.0->openai) (0.14.0)\n",
      "Requirement already satisfied: annotated-types>=0.4.0 in /Users/gmccurdy/opt/anaconda3/lib/python3.9/site-packages (from pydantic<3,>=1.9.0->openai) (0.6.0)\n",
      "Requirement already satisfied: pydantic-core==2.16.3 in /Users/gmccurdy/opt/anaconda3/lib/python3.9/site-packages (from pydantic<3,>=1.9.0->openai) (2.16.3)\n",
      "Note: you may need to restart the kernel to use updated packages.\n"
     ]
    }
   ],
   "source": [
    "%pip install openai"
   ]
  },
  {
   "cell_type": "code",
   "execution_count": 2,
   "metadata": {},
   "outputs": [],
   "source": [
    "import json\n",
    "import os\n",
    "import openai\n",
    "from openai import OpenAI"
   ]
  },
  {
   "cell_type": "code",
   "execution_count": 3,
   "metadata": {},
   "outputs": [],
   "source": [
    "#Load API Keys\n",
    "canvas_api_key = os.getenv('CANVAS_API_KEY')\n",
    "github_api_key = os.getenv('GITHUB_API_KEY')\n",
    "openai_api_key = os.getenv('OPENAI_API_KEY')\n",
    "\n",
    "# Load secrets\n",
    "SECRETS_FILE = '/Users/gmccurdy/repos/curriculum/scripts/utilities/secrets.json'\n",
    "\n",
    "with open(SECRETS_FILE, 'r') as file:\n",
    "    secrets = json.load(file)\n",
    "\n",
    "canvas_url = secrets.get('CANVAS_URL')\n",
    "course_id_apstatistics = secrets.get('COURSE_ID_APSTATISTICS')\n",
    "course_id_statistics = secrets.get('COURSE_ID_STATISTICS')\n",
    "course_id_hprecalculus = secrets.get('COURSE_ID_HPRECALCULUS')\n",
    "course_id_precalculus = secrets.get('COURSE_ID_PRECALCULUS')"
   ]
  }
 ],
 "metadata": {
  "kernelspec": {
   "display_name": "base",
   "language": "python",
   "name": "python3"
  },
  "language_info": {
   "name": "python",
   "version": "3.9.13"
  }
 },
 "nbformat": 4,
 "nbformat_minor": 2
}
