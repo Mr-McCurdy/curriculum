{
 "cells": [
  {
   "cell_type": "code",
   "execution_count": 2,
   "metadata": {},
   "outputs": [],
   "source": [
    "import json\n",
    "import os\n",
    "import requests"
   ]
  },
  {
   "cell_type": "code",
   "execution_count": 3,
   "metadata": {},
   "outputs": [],
   "source": [
    "#Load API Keys\n",
    "canvas_api_key = os.getenv('CANVAS_API_KEY')\n",
    "\n",
    "# Load secrets\n",
    "SECRETS_FILE = '//Users/gmccurdy/repos/curriculum-1.1/curriculum/utilities/secrets.json'\n",
    "\n",
    "with open(SECRETS_FILE, 'r') as file:\n",
    "    secrets = json.load(file)\n",
    "\n",
    "canvas_url = secrets.get('CANVAS_URL')\n",
    "course_id_apstatistics = secrets.get('COURSE_ID_APSTATISTICS')\n",
    "course_id_statistics = secrets.get('COURSE_ID_STATISTICS')\n",
    "course_id_hprecalculus = secrets.get('COURSE_ID_HPRECALCULUS')\n",
    "course_id_precalculus = secrets.get('COURSE_ID_PRECALCULUS')"
   ]
  },
  {
   "cell_type": "code",
   "execution_count": 4,
   "metadata": {},
   "outputs": [
    {
     "name": "stdout",
     "output_type": "stream",
     "text": [
      "https://pacificachristian.instructure.com\n"
     ]
    }
   ],
   "source": [
    "print(canvas_url)"
   ]
  },
  {
   "cell_type": "code",
   "execution_count": 6,
   "metadata": {},
   "outputs": [
    {
     "name": "stdout",
     "output_type": "stream",
     "text": [
      "{'id': '162378', 'title': '08.23.2024.B.Q Attendance and Discipline Quiz - Requires Respondus LockDown Browser', 'instructions': 'A quiz on attendance, demerits, and disciplinary policies', 'assignment_group_id': '9751', 'points_possible': 100.0, 'due_at': '2024-08-23T18:40:00Z', 'lock_at': None, 'unlock_at': '2024-08-23T17:40:00Z', 'published': True, 'grading_type': 'points', 'quiz_settings': {'calculator_type': 'none', 'filter_ip_address': False, 'filters': {'ips': []}, 'one_at_a_time_type': 'question', 'allow_backtracking': True, 'shuffle_answers': True, 'shuffle_questions': True, 'require_student_access_code': True, 'student_access_code': 'Jesus', 'has_time_limit': True, 'session_time_limit_in_seconds': 600, 'multiple_attempts': {'score_to_keep': 'highest'}, 'result_view_settings': {'display_items': True, 'display_item_feedback': False, 'display_item_response': True, 'display_points_awarded': True, 'result_view_restricted': True, 'display_points_possible': True, 'display_item_correct_answer': False, 'display_item_response_qualifier': 'always', 'display_item_response_correctness': False, 'display_item_response_correctness_qualifier': 'always'}}}\n",
      "{'id': '162408', 'title': '08.27.2023.B.Q- Requires Respondus LockDown Browser', 'instructions': None, 'assignment_group_id': '9751', 'points_possible': 100.0, 'due_at': '2024-08-27T18:40:00Z', 'lock_at': None, 'unlock_at': '2024-08-27T17:40:00Z', 'published': True, 'grading_type': 'points', 'quiz_settings': None}\n",
      "{'id': '162491', 'title': '08.29.2024.B.Q Set Theory- Requires Respondus LockDown Browser', 'instructions': None, 'assignment_group_id': '9751', 'points_possible': 100.0, 'due_at': '2024-08-29T18:30:00Z', 'lock_at': None, 'unlock_at': None, 'published': True, 'grading_type': 'points', 'quiz_settings': None}\n",
      "{'id': '162574', 'title': '09.03.2024.B.Q Intro to Probability- Requires Respondus LockDown Browser', 'instructions': None, 'assignment_group_id': '9751', 'points_possible': 100.0, 'due_at': '2024-09-03T18:55:00Z', 'lock_at': None, 'unlock_at': '2024-09-03T17:40:00Z', 'published': True, 'grading_type': 'points', 'quiz_settings': None}\n",
      "{'id': '162637', 'title': '09.05.2024.B.T Set Theory, Basic Univariate Metrics, Intro to Probability- Requires Respondus LockDown Browser', 'instructions': None, 'assignment_group_id': '9752', 'points_possible': 100.0, 'due_at': '2024-09-06T06:59:59Z', 'lock_at': None, 'unlock_at': '2024-09-05T17:40:00Z', 'published': True, 'grading_type': 'points', 'quiz_settings': None}\n",
      "{'id': '162954', 'title': '09.19.2024.B.Q- Requires Respondus LockDown Browser', 'instructions': None, 'assignment_group_id': '9751', 'points_possible': 100.0, 'due_at': '2024-09-20T06:59:59Z', 'lock_at': None, 'unlock_at': '2024-09-19T17:35:00Z', 'published': True, 'grading_type': 'points', 'quiz_settings': None}\n",
      "{'id': '163266', 'title': '09.24.2024.B.Q- Requires Respondus LockDown Browser', 'instructions': None, 'assignment_group_id': '9751', 'points_possible': 100.0, 'due_at': '2024-09-25T06:59:59Z', 'lock_at': None, 'unlock_at': '2024-09-24T17:35:00Z', 'published': True, 'grading_type': 'points', 'quiz_settings': None}\n",
      "{'id': '163317', 'title': '09.26.2024.B.Q- Requires Respondus LockDown Browser', 'instructions': None, 'assignment_group_id': '9751', 'points_possible': 100.0, 'due_at': '2024-09-27T06:59:59Z', 'lock_at': None, 'unlock_at': '2024-09-26T17:05:00Z', 'published': True, 'grading_type': 'points', 'quiz_settings': None}\n",
      "{'id': '163418', 'title': '10.01.2024.B.Q- Requires Respondus LockDown Browser', 'instructions': None, 'assignment_group_id': '9751', 'points_possible': 100.0, 'due_at': '2024-10-02T06:59:59Z', 'lock_at': None, 'unlock_at': '2024-10-01T17:35:00Z', 'published': True, 'grading_type': 'points', 'quiz_settings': None}\n",
      "{'id': '163484', 'title': '10.08.2024.B.Q- Requires Respondus LockDown Browser', 'instructions': None, 'assignment_group_id': '9751', 'points_possible': 100.0, 'due_at': '2024-10-09T06:59:59Z', 'lock_at': None, 'unlock_at': '2024-10-08T17:35:00Z', 'published': True, 'grading_type': 'points', 'quiz_settings': None}\n",
      "{'id': '163688', 'title': '10.11.2024.B.T- Requires Respondus LockDown Browser', 'instructions': None, 'assignment_group_id': '9752', 'points_possible': 100.0, 'due_at': '2024-10-12T06:59:59Z', 'lock_at': None, 'unlock_at': '2024-10-11T17:35:00Z', 'published': True, 'grading_type': 'points', 'quiz_settings': None}\n",
      "{'id': '163860', 'title': '10.17.2024.B.Q- Requires Respondus LockDown Browser', 'instructions': None, 'assignment_group_id': '9751', 'points_possible': 100.0, 'due_at': '2024-10-18T06:59:59Z', 'lock_at': None, 'unlock_at': '2024-10-17T17:35:00Z', 'published': True, 'grading_type': 'points', 'quiz_settings': None}\n",
      "{'id': '165058', 'title': 'Test', 'instructions': 'Updated instructions for the quiz.', 'assignment_group_id': '9925', 'points_possible': 2.0, 'due_at': None, 'lock_at': None, 'unlock_at': None, 'published': True, 'grading_type': 'points', 'quiz_settings': {'calculator_type': 'none', 'filter_ip_address': False, 'filters': {}, 'one_at_a_time_type': 'none', 'allow_backtracking': True, 'shuffle_answers': False, 'shuffle_questions': False, 'require_student_access_code': False, 'student_access_code': None, 'has_time_limit': False, 'session_time_limit_in_seconds': 0, 'multiple_attempts': {}, 'result_view_settings': {}}}\n",
      "{'id': '164207', 'title': 'quiz-confidence-intervals- Requires Respondus LockDown Browser', 'instructions': None, 'assignment_group_id': '9751', 'points_possible': 100.0, 'due_at': '2024-11-01T06:59:59Z', 'lock_at': None, 'unlock_at': '2024-10-31T17:35:00Z', 'published': True, 'grading_type': 'points', 'quiz_settings': None}\n",
      "{'id': '164896', 'title': 'quiz-confidence-intervals-2sample- Requires Respondus LockDown Browser', 'instructions': None, 'assignment_group_id': '9751', 'points_possible': 100.0, 'due_at': '2024-12-04T07:59:59Z', 'lock_at': None, 'unlock_at': '2024-11-21T18:35:00Z', 'published': True, 'grading_type': 'points', 'quiz_settings': None}\n",
      "{'id': '163935', 'title': 'quiz-sampling-distributions- Requires Respondus LockDown Browser', 'instructions': None, 'assignment_group_id': '9751', 'points_possible': 100.0, 'due_at': '2024-10-23T06:59:59Z', 'lock_at': None, 'unlock_at': '2024-10-22T17:35:00Z', 'published': True, 'grading_type': 'points', 'quiz_settings': None}\n",
      "{'id': '164544', 'title': 'test-basic-inference- Requires Respondus LockDown Browser', 'instructions': None, 'assignment_group_id': '9752', 'points_possible': 100.0, 'due_at': '2024-11-13T07:59:59Z', 'lock_at': None, 'unlock_at': '2024-11-12T18:40:00Z', 'published': True, 'grading_type': 'points', 'quiz_settings': None}\n"
     ]
    }
   ],
   "source": [
    "# Define headers\n",
    "headers = {\n",
    "    'Authorization': f'Bearer {canvas_api_key}',\n",
    "    'Content-Type': 'application/json'\n",
    "}\n",
    "\n",
    "quizzes = []\n",
    "page = 1\n",
    "per_page = 100\n",
    "\n",
    "params = {\n",
    "    'per_page': per_page,\n",
    "    'page': page\n",
    "}\n",
    "\n",
    "# Define the API endpoint for fetching quizzes\n",
    "quizzes_endpoint = f\"{canvas_url}/api/quiz/v1/courses/{course_id_apstatistics}/quizzes\"\n",
    "\n",
    "response = requests.get(quizzes_endpoint, headers=headers, params=params)\n",
    "\n",
    "quizzes = response.json()\n",
    "\n",
    "for quiz in quizzes:\n",
    "    print(quiz)\n"
   ]
  },
  {
   "cell_type": "code",
   "execution_count": null,
   "metadata": {},
   "outputs": [
    {
     "name": "stdout",
     "output_type": "stream",
     "text": [
      "08.23.2024.B.Q Attendance and Discipline Quiz - Requires Respondus LockDown Browser\n",
      "162378\n"
     ]
    }
   ],
   "source": [
    "#quiz id search\n",
    "\n",
    "search_string = input(\"search\")\n",
    "\n",
    "for quiz in quizzes:\n",
    "    original_string = quiz['title'].lower()\n",
    "    if search_string in original_string:\n",
    "        print(quiz['title'])\n",
    "        print(quiz['id']) \n",
    "        "
   ]
  },
  {
   "cell_type": "code",
   "execution_count": null,
   "metadata": {},
   "outputs": [],
   "source": [
    "#Extract Answer\n",
    "quiz_endpoint = f\"{canvas_url}/api/quiz/v1/courses/{course_id_apstatistics}/quizzes/162378\""
   ]
  },
  {
   "cell_type": "code",
   "execution_count": null,
   "metadata": {},
   "outputs": [],
   "source": [
    "# Update instructions\n",
    "test_quiz_endpoint = f\"{canvas_url}/api/quiz/v1/courses/{course_id_apstatistics}/quizzes/165058\"\n",
    "payload = {\n",
    "    \"quiz\": {\n",
    "        \"instructions\": \"Updated instructions for the quiz.\"\n",
    "    }\n",
    "}\n",
    "\n",
    "response = requests.patch(test_quiz_endpoint, headers = headers, data = json.dumps(payload))"
   ]
  },
  {
   "cell_type": "code",
   "execution_count": 39,
   "metadata": {},
   "outputs": [
    {
     "data": {
      "text/plain": [
       "<Response [400]>"
      ]
     },
     "execution_count": 39,
     "metadata": {},
     "output_type": "execute_result"
    }
   ],
   "source": [
    "response"
   ]
  },
  {
   "cell_type": "code",
   "execution_count": null,
   "metadata": {},
   "outputs": [],
   "source": []
  }
 ],
 "metadata": {
  "kernelspec": {
   "display_name": "base",
   "language": "python",
   "name": "python3"
  },
  "language_info": {
   "codemirror_mode": {
    "name": "ipython",
    "version": 3
   },
   "file_extension": ".py",
   "mimetype": "text/x-python",
   "name": "python",
   "nbconvert_exporter": "python",
   "pygments_lexer": "ipython3",
   "version": "3.9.13"
  }
 },
 "nbformat": 4,
 "nbformat_minor": 2
}
