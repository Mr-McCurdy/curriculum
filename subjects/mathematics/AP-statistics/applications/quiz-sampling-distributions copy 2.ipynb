{
 "cells": [
  {
   "cell_type": "code",
   "execution_count": 1,
   "metadata": {},
   "outputs": [
    {
     "name": "stdout",
     "output_type": "stream",
     "text": [
      "Defaulting to user installation because normal site-packages is not writeable\n",
      "Requirement already satisfied: requests in /Users/gmccurdy/Library/Python/3.9/lib/python/site-packages (2.32.3)\n",
      "Requirement already satisfied: idna<4,>=2.5 in /Users/gmccurdy/Library/Python/3.9/lib/python/site-packages (from requests) (3.4)\n",
      "Requirement already satisfied: urllib3<3,>=1.21.1 in /Users/gmccurdy/Library/Python/3.9/lib/python/site-packages (from requests) (1.26.14)\n",
      "Requirement already satisfied: charset-normalizer<4,>=2 in /Users/gmccurdy/Library/Python/3.9/lib/python/site-packages (from requests) (3.4.0)\n",
      "Requirement already satisfied: certifi>=2017.4.17 in /Users/gmccurdy/Library/Python/3.9/lib/python/site-packages (from requests) (2022.12.7)\n",
      "\u001b[33mWARNING: You are using pip version 21.2.4; however, version 24.2 is available.\n",
      "You should consider upgrading via the '/Library/Developer/CommandLineTools/usr/bin/python3 -m pip install --upgrade pip' command.\u001b[0m\n",
      "Note: you may need to restart the kernel to use updated packages.\n"
     ]
    }
   ],
   "source": [
    "%pip install requests"
   ]
  },
  {
   "cell_type": "code",
   "execution_count": 2,
   "metadata": {},
   "outputs": [],
   "source": [
    "import requests\n",
    "import json\n",
    "import os"
   ]
  },
  {
   "cell_type": "code",
   "execution_count": 3,
   "metadata": {},
   "outputs": [],
   "source": [
    "#Define path\n",
    "SECRETS_FILE = '/Users/gmccurdy/repos/curriculum/scripts/utilities/secrets.json'\n",
    "\n",
    "# Load secrets\n",
    "with open(SECRETS_FILE, 'r') as file:\n",
    "    secrets = json.load(file)\n",
    "\n",
    "# Assign variables from the secrets\n",
    "API_URL = secrets.get('API_URL')\n",
    "API_KEY = secrets.get('API_KEY')\n",
    "COURSE_ID = secrets.get('COURSE_ID_APSTATISTICS')\n",
    "\n",
    "#Define headers\n",
    "headers = {\n",
    "    'Authorization': f'Bearer {API_KEY}',\n",
    "    'Content-Type': 'application/json'\n",
    "}"
   ]
  },
  {
   "cell_type": "code",
   "execution_count": 4,
   "metadata": {},
   "outputs": [
    {
     "name": "stdout",
     "output_type": "stream",
     "text": [
      "Quiz created successfully with ID: 44035\n"
     ]
    }
   ],
   "source": [
    "# Create the quiz\n",
    "quiz_title = input('Quiz Title')\n",
    "quiz_description = input('Quiz Description')\n",
    "quiz_data = {\n",
    "    'quiz': {\n",
    "        'title': quiz_title,\n",
    "        'description': f'<p>{quiz_description}</p>',\n",
    "        'quiz_type': 'assignment',\n",
    "        'published': False\n",
    "    }\n",
    "}\n",
    "\n",
    "create_quiz_url = f'{API_URL}/api/v1/courses/{COURSE_ID}/quizzes'\n",
    "response = requests.post(create_quiz_url, headers=headers, json=quiz_data)\n",
    "\n",
    "if response.status_code == 200:\n",
    "    quiz = response.json()\n",
    "    quiz_id = quiz['id']\n",
    "    print(f'Quiz created successfully with ID: {quiz_id}')\n",
    "else:\n",
    "    print('Failed to create quiz')\n",
    "    print(f\"Status Code: {response.status_code}\")\n",
    "    print(response.text)"
   ]
  },
  {
   "cell_type": "code",
   "execution_count": 5,
   "metadata": {},
   "outputs": [],
   "source": [
    "multiple_choice_questions = [\n",
    "    {\n",
    "        'question_name': 'Conditions for CLT for Sample Proportion',\n",
    "        'question_type': 'multiple_choice_question',\n",
    "        'question_text': '''Which of the following conditions must be satisfied to apply the Central Limit Theorem (CLT) for the sampling distribution of a sample proportion?''',\n",
    "        'points_possible': 1,\n",
    "        'answers': [\n",
    "            {'text': 'The sample size must be at least 30', 'weight': 0},\n",
    "            {'text': 'np ≥ 10 and n(1-p) ≥ 10', 'weight': 100},  # Correct answer\n",
    "            {'text': 'The population must be normally distributed', 'weight': 0},\n",
    "            {'text': 'The sample must be random', 'weight': 0},\n",
    "            {'text': 'p must be greater than 0.5', 'weight': 0}\n",
    "        ]\n",
    "    },\n",
    "    {\n",
    "        'question_name': 'Standard Error of Sample Mean',\n",
    "        'question_type': 'multiple_choice_question',\n",
    "        'question_text': '''In a population with a mean of 50 and a standard deviation of 5, what is the **standard error** of the sampling distribution of the sample mean for a sample size of 25?''',\n",
    "        'points_possible': 1,\n",
    "        'answers': [\n",
    "            {'text': '1.00', 'weight': 100},  # Correct answer: SE = 5 / sqrt(25) = 1.00\n",
    "            {'text': '0.20', 'weight': 0},\n",
    "            {'text': '5.00', 'weight': 0},\n",
    "            {'text': '0.40', 'weight': 0},\n",
    "            {'text': '0.50', 'weight': 0}\n",
    "        ]\n",
    "    },\n",
    "    {\n",
    "        'question_name': 'Probability of Sample Mean Greater Than a Value',\n",
    "        'question_type': 'multiple_choice_question',\n",
    "        'question_text': '''In a population with a mean of 100 and a standard deviation of 20, a sample of size 25 is taken. What is the **probability** that the sample mean is greater than 108? (Use the z-score table.)''',\n",
    "        'points_possible': 1,\n",
    "        'answers': [\n",
    "            {'text': '0.1587', 'weight': 0},\n",
    "            {'text': '0.0668', 'weight': 0},\n",
    "            {'text': '0.8413', 'weight': 0},\n",
    "            {'text': '0.3085', 'weight': 0},\n",
    "            {'text': '0.0228', 'weight': 100}  # Correct answer: z = (108-100)/(20/sqrt(25)) = 8/4 = 2.00, P(z > 2) = 0.0228\n",
    "        ]\n",
    "    }\n",
    "]"
   ]
  },
  {
   "cell_type": "code",
   "execution_count": 6,
   "metadata": {},
   "outputs": [],
   "source": [
    "essay_questions = [\n",
    "\n",
    "]"
   ]
  },
  {
   "cell_type": "code",
   "execution_count": 7,
   "metadata": {},
   "outputs": [],
   "source": [
    "numerical_questions = [\n",
    "    {\n",
    "        'question_name': 'Z-Score for Sample Mean',\n",
    "        'question_type': 'numerical_question',\n",
    "        'question_text': '''In a population with a mean of 80 and a standard deviation of 12, a sample of size 36 is taken. What is the **z-score** for a sample mean of 86? Round your answer to two decimal places.''',\n",
    "        'points_possible': 1,\n",
    "        'answers': [\n",
    "            {\n",
    "                'numerical_answer_type': 'exact_answer',\n",
    "                'answer_exact': '3.00'  # Correct answer: z = (86 - 80) / (12 / sqrt(36)) = 6 / 2 = 3.00\n",
    "            }\n",
    "        ]\n",
    "    },\n",
    "    {\n",
    "        'question_name': 'Standard Error of Sample Proportion',\n",
    "        'question_type': 'numerical_question',\n",
    "        'question_text': '''In a population with a proportion p = 0.3, a sample of size 100 is taken. What is the **standard error** of the sampling distribution of the sample proportion? Round your answer to four decimal places.''',\n",
    "        'points_possible': 1,\n",
    "        'answers': [\n",
    "            {\n",
    "                'numerical_answer_type': 'exact_answer',\n",
    "                'answer_exact': '0.0458'  # Correct answer: SE = sqrt(p(1-p)/n) = sqrt(0.3*0.7/100) = 0.0458\n",
    "            }\n",
    "        ]\n",
    "    }\n",
    "]"
   ]
  },
  {
   "cell_type": "code",
   "execution_count": 8,
   "metadata": {},
   "outputs": [
    {
     "name": "stdout",
     "output_type": "stream",
     "text": [
      "Added question 'Conditions for CLT for Sample Proportion' successfully.\n",
      "Added question 'Standard Error of Sample Mean' successfully.\n",
      "Added question 'Probability of Sample Mean Greater Than a Value' successfully.\n",
      "Added question 'Z-Score for Sample Mean' successfully.\n",
      "Added question 'Standard Error of Sample Proportion' successfully.\n"
     ]
    }
   ],
   "source": [
    "# Combine all questions, including the essay question\n",
    "questions = multiple_choice_questions + numerical_questions + essay_questions\n",
    "\n",
    "# Add questions to the quiz\n",
    "for question in questions:\n",
    "    create_question_url = f'{API_URL}/api/v1/courses/{COURSE_ID}/quizzes/{quiz_id}/questions'\n",
    "\n",
    "    # Base question data\n",
    "    question_data = {\n",
    "        'question': {\n",
    "            'question_name': question['question_name'],\n",
    "            'question_type': question['question_type'],\n",
    "            'question_text': question['question_text'],\n",
    "            'points_possible': question.get('points_possible', 1)\n",
    "            # Do not include 'answers' here\n",
    "        }\n",
    "    }\n",
    "\n",
    "    # Include 'answers' only if they exist and the question is not an essay question\n",
    "    if 'answers' in question and question['question_type'] != 'essay_question':\n",
    "        question_data['question']['answers'] = question['answers']\n",
    "\n",
    "    # Include 'general_feedback' if it exists (for essay questions)\n",
    "    if 'general_feedback' in question:\n",
    "        question_data['question']['general_feedback'] = question['general_feedback']\n",
    "\n",
    "    # Send the request to create the question\n",
    "    response = requests.post(create_question_url, headers=headers, json=question_data)\n",
    "\n",
    "    if response.status_code == 201 or response.status_code == 200:\n",
    "        print(f\"Added question '{question['question_name']}' successfully.\")\n",
    "    else:\n",
    "        print(f\"Failed to add question '{question['question_name']}'\")\n",
    "        print(f\"Status Code: {response.status_code}\")\n",
    "        print(response.text)"
   ]
  }
 ],
 "metadata": {
  "kernelspec": {
   "display_name": "Python 3",
   "language": "python",
   "name": "python3"
  },
  "language_info": {
   "codemirror_mode": {
    "name": "ipython",
    "version": 3
   },
   "file_extension": ".py",
   "mimetype": "text/x-python",
   "name": "python",
   "nbconvert_exporter": "python",
   "pygments_lexer": "ipython3",
   "version": "3.9.6"
  }
 },
 "nbformat": 4,
 "nbformat_minor": 2
}
