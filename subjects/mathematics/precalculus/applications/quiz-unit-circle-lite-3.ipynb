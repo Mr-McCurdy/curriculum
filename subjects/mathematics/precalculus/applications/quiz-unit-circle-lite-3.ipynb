{
 "cells": [
  {
   "cell_type": "code",
   "execution_count": 1,
   "metadata": {},
   "outputs": [
    {
     "name": "stdout",
     "output_type": "stream",
     "text": [
      "Defaulting to user installation because normal site-packages is not writeable\n",
      "Requirement already satisfied: requests in /Users/gmccurdy/Library/Python/3.9/lib/python/site-packages (2.32.3)\n",
      "Requirement already satisfied: idna<4,>=2.5 in /Users/gmccurdy/Library/Python/3.9/lib/python/site-packages (from requests) (3.4)\n",
      "Requirement already satisfied: urllib3<3,>=1.21.1 in /Users/gmccurdy/Library/Python/3.9/lib/python/site-packages (from requests) (1.26.14)\n",
      "Requirement already satisfied: charset-normalizer<4,>=2 in /Users/gmccurdy/Library/Python/3.9/lib/python/site-packages (from requests) (3.4.0)\n",
      "Requirement already satisfied: certifi>=2017.4.17 in /Users/gmccurdy/Library/Python/3.9/lib/python/site-packages (from requests) (2022.12.7)\n",
      "\u001b[33mWARNING: You are using pip version 21.2.4; however, version 24.3.1 is available.\n",
      "You should consider upgrading via the '/Library/Developer/CommandLineTools/usr/bin/python3 -m pip install --upgrade pip' command.\u001b[0m\n",
      "Note: you may need to restart the kernel to use updated packages.\n"
     ]
    }
   ],
   "source": [
    "%pip install requests"
   ]
  },
  {
   "cell_type": "code",
   "execution_count": 2,
   "metadata": {},
   "outputs": [],
   "source": [
    "import requests\n",
    "import json\n",
    "import os"
   ]
  },
  {
   "cell_type": "code",
   "execution_count": 3,
   "metadata": {},
   "outputs": [],
   "source": [
    "#Define path\n",
    "SECRETS_FILE = '/Users/gmccurdy/repos/curriculum/scripts/utilities/secrets.json'\n",
    "\n",
    "# Load secrets\n",
    "with open(SECRETS_FILE, 'r') as file:\n",
    "    secrets = json.load(file)\n",
    "\n",
    "# Assign variables from the secrets\n",
    "API_URL = secrets.get('API_URL')\n",
    "API_KEY = secrets.get('API_KEY')\n",
    "COURSE_ID = secrets.get('COURSE_ID_PRECALCULUS')\n",
    "\n",
    "#Define headers\n",
    "headers = {\n",
    "    'Authorization': f'Bearer {API_KEY}',\n",
    "    'Content-Type': 'application/json'\n",
    "}"
   ]
  },
  {
   "cell_type": "code",
   "execution_count": 4,
   "metadata": {},
   "outputs": [
    {
     "name": "stdout",
     "output_type": "stream",
     "text": [
      "Quiz created successfully with ID: 44083\n"
     ]
    }
   ],
   "source": [
    "# Create the quiz\n",
    "quiz_title = input('Quiz Title')\n",
    "quiz_description = input('Quiz Description')\n",
    "quiz_data = {\n",
    "    'quiz': {\n",
    "        'title': quiz_title,\n",
    "        'description': f'<p>{quiz_description}</p>',\n",
    "        'quiz_type': 'assignment',\n",
    "        'published': False\n",
    "    }\n",
    "}\n",
    "\n",
    "create_quiz_url = f'{API_URL}/api/v1/courses/{COURSE_ID}/quizzes'\n",
    "response = requests.post(create_quiz_url, headers=headers, json=quiz_data)\n",
    "\n",
    "if response.status_code == 200:\n",
    "    quiz = response.json()\n",
    "    quiz_id = quiz['id']\n",
    "    print(f'Quiz created successfully with ID: {quiz_id}')\n",
    "else:\n",
    "    print('Failed to create quiz')\n",
    "    print(f\"Status Code: {response.status_code}\")\n",
    "    print(response.text)"
   ]
  },
  {
   "cell_type": "code",
   "execution_count": 10,
   "metadata": {},
   "outputs": [],
   "source": [
    "multiple_choice_questions = [\n",
    "    {\n",
    "        'question_name': 'Sine of Negative Angle -π/3',\n",
    "        'question_type': 'multiple_choice_question',\n",
    "        'question_text': r'''What is \\( \\sin\\left(-\\frac{\\pi}{3}\\right) \\)?''',\n",
    "        'points_possible': 1,\n",
    "        'answers': [\n",
    "            {'text': r'\\( \\frac{\\sqrt{3}}{2} \\)', 'weight': 0},\n",
    "            {'text': r'\\( -\\frac{\\sqrt{3}}{2} \\)', 'weight': 100},  # Correct answer\n",
    "            {'text': r'\\( \\frac{1}{2} \\)', 'weight': 0},\n",
    "            {'text': r'\\( -\\frac{1}{2} \\)', 'weight': 0},\n",
    "        ]\n",
    "    },\n",
    "    {\n",
    "        'question_name': 'Cotangent of 7π/4',\n",
    "        'question_type': 'multiple_choice_question',\n",
    "        'question_text': r'''Evaluate \\( \\cot\\left(\\frac{7\\pi}{4}\\right) \\).''',\n",
    "        'points_possible': 1,\n",
    "        'answers': [\n",
    "            {'text': r'\\( 1 \\)', 'weight': 100},        # Correct answer\n",
    "            {'text': r'\\( -1 \\)', 'weight': 0},\n",
    "            {'text': r'\\( \\sqrt{3} \\)', 'weight': 0},\n",
    "            {'text': r'\\( -\\sqrt{3} \\)', 'weight': 0},\n",
    "        ]\n",
    "    },\n",
    "    {\n",
    "        'question_name': 'Secant of -2π/3',\n",
    "        'question_type': 'multiple_choice_question',\n",
    "        'question_text': r'''Find \\( \\sec\\left(-\\frac{2\\pi}{3}\\right) \\).''',\n",
    "        'points_possible': 1,\n",
    "        'answers': [\n",
    "            {'text': r'\\( 2 \\)', 'weight': 0},\n",
    "            {'text': r'\\( -2 \\)', 'weight': 100},       # Correct answer\n",
    "            {'text': r'\\( \\frac{2}{\\sqrt{3}} \\)', 'weight': 0},\n",
    "            {'text': r'\\( -\\frac{2}{\\sqrt{3}} \\)', 'weight': 0},\n",
    "        ]\n",
    "    },\n",
    "    {\n",
    "        'question_name': 'Cosine of 13π/6',\n",
    "        'question_type': 'multiple_choice_question',\n",
    "        'question_text': r'''Evaluate \\( \\cos\\left(\\frac{13\\pi}{6}\\right) \\).''',\n",
    "        'points_possible': 1,\n",
    "        'answers': [\n",
    "            {'text': r'\\( \\frac{\\sqrt{3}}{2} \\)', 'weight': 100},  # Correct answer\n",
    "            {'text': r'\\( -\\frac{\\sqrt{3}}{2} \\)', 'weight': 0},\n",
    "            {'text': r'\\( \\frac{1}{2} \\)', 'weight': 0},\n",
    "            {'text': r'\\( -\\frac{1}{2} \\)', 'weight': 0},\n",
    "        ]\n",
    "    },\n",
    "    {\n",
    "        'question_name': 'Sine of 5π/2',\n",
    "        'question_type': 'multiple_choice_question',\n",
    "        'question_text': r'''What is \\( \\sin\\left(\\frac{5\\pi}{2}\\right) \\)?''',\n",
    "        'points_possible': 1,\n",
    "        'answers': [\n",
    "            {'text': r'\\( -1 \\)', 'weight': 0},\n",
    "            {'text': r'\\( 1 \\)', 'weight': 100},        # Correct answer\n",
    "            {'text': r'\\( 0 \\)', 'weight': 0},\n",
    "            {'text': r'\\( \\frac{1}{2} \\)', 'weight': 0},\n",
    "        ]\n",
    "    },\n",
    "    {\n",
    "        'question_name': 'Cosecant of -π/2',\n",
    "        'question_type': 'multiple_choice_question',\n",
    "        'question_text': r'''Find \\( \\csc\\left(-\\frac{\\pi}{2}\\right) \\).''',\n",
    "        'points_possible': 1,\n",
    "        'answers': [\n",
    "            {'text': r'\\( 1 \\)', 'weight': 0},\n",
    "            {'text': r'\\( -1 \\)', 'weight': 100},       # Correct answer\n",
    "            {'text': r'\\( \\text{Undefined} \\)', 'weight': 0},\n",
    "            {'text': r'\\( 0 \\)', 'weight': 0},\n",
    "        ]\n",
    "    },\n",
    "]"
   ]
  },
  {
   "cell_type": "code",
   "execution_count": 6,
   "metadata": {},
   "outputs": [],
   "source": [
    "essay_questions = [\n",
    "    \n",
    "]"
   ]
  },
  {
   "cell_type": "code",
   "execution_count": 7,
   "metadata": {},
   "outputs": [],
   "source": [
    "numerical_questions = [\n",
    "\n",
    "]"
   ]
  },
  {
   "cell_type": "code",
   "execution_count": 11,
   "metadata": {},
   "outputs": [
    {
     "name": "stdout",
     "output_type": "stream",
     "text": [
      "Added question 'Sine of Negative Angle -π/3' successfully.\n",
      "Added question 'Cotangent of 7π/4' successfully.\n",
      "Added question 'Secant of -2π/3' successfully.\n",
      "Added question 'Cosine of 13π/6' successfully.\n",
      "Added question 'Sine of 5π/2' successfully.\n",
      "Added question 'Cosecant of -π/2' successfully.\n"
     ]
    }
   ],
   "source": [
    "# Combine all questions, including the essay question\n",
    "questions = multiple_choice_questions + numerical_questions + essay_questions\n",
    "\n",
    "# Add questions to the quiz\n",
    "for question in questions:\n",
    "    create_question_url = f'{API_URL}/api/v1/courses/{COURSE_ID}/quizzes/{quiz_id}/questions'\n",
    "\n",
    "    # Base question data\n",
    "    question_data = {\n",
    "        'question': {\n",
    "            'question_name': question['question_name'],\n",
    "            'question_type': question['question_type'],\n",
    "            'question_text': question['question_text'],\n",
    "            'points_possible': question.get('points_possible', 1)\n",
    "            # Do not include 'answers' here\n",
    "        }\n",
    "    }\n",
    "\n",
    "    # Include 'answers' only if they exist and the question is not an essay question\n",
    "    if 'answers' in question and question['question_type'] != 'essay_question':\n",
    "        question_data['question']['answers'] = question['answers']\n",
    "\n",
    "    # Include 'general_feedback' if it exists (for essay questions)\n",
    "    if 'general_feedback' in question:\n",
    "        question_data['question']['general_feedback'] = question['general_feedback']\n",
    "\n",
    "    # Send the request to create the question\n",
    "    response = requests.post(create_question_url, headers=headers, json=question_data)\n",
    "\n",
    "    if response.status_code == 201 or response.status_code == 200:\n",
    "        print(f\"Added question '{question['question_name']}' successfully.\")\n",
    "    else:\n",
    "        print(f\"Failed to add question '{question['question_name']}'\")\n",
    "        print(f\"Status Code: {response.status_code}\")\n",
    "        print(response.text)"
   ]
  },
  {
   "cell_type": "code",
   "execution_count": null,
   "metadata": {},
   "outputs": [],
   "source": []
  }
 ],
 "metadata": {
  "kernelspec": {
   "display_name": "Python 3",
   "language": "python",
   "name": "python3"
  },
  "language_info": {
   "codemirror_mode": {
    "name": "ipython",
    "version": 3
   },
   "file_extension": ".py",
   "mimetype": "text/x-python",
   "name": "python",
   "nbconvert_exporter": "python",
   "pygments_lexer": "ipython3",
   "version": "3.9.6"
  }
 },
 "nbformat": 4,
 "nbformat_minor": 2
}
