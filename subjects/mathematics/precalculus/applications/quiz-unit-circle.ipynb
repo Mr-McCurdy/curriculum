{
 "cells": [
  {
   "cell_type": "code",
   "execution_count": 1,
   "metadata": {},
   "outputs": [
    {
     "name": "stdout",
     "output_type": "stream",
     "text": [
      "Defaulting to user installation because normal site-packages is not writeable\n",
      "Requirement already satisfied: requests in /Users/gmccurdy/Library/Python/3.9/lib/python/site-packages (2.32.3)\n",
      "Requirement already satisfied: urllib3<3,>=1.21.1 in /Users/gmccurdy/Library/Python/3.9/lib/python/site-packages (from requests) (1.26.14)\n",
      "Requirement already satisfied: idna<4,>=2.5 in /Users/gmccurdy/Library/Python/3.9/lib/python/site-packages (from requests) (3.4)\n",
      "Requirement already satisfied: certifi>=2017.4.17 in /Users/gmccurdy/Library/Python/3.9/lib/python/site-packages (from requests) (2022.12.7)\n",
      "Requirement already satisfied: charset-normalizer<4,>=2 in /Users/gmccurdy/Library/Python/3.9/lib/python/site-packages (from requests) (3.4.0)\n",
      "\u001b[33mWARNING: You are using pip version 21.2.4; however, version 24.2 is available.\n",
      "You should consider upgrading via the '/Library/Developer/CommandLineTools/usr/bin/python3 -m pip install --upgrade pip' command.\u001b[0m\n",
      "Note: you may need to restart the kernel to use updated packages.\n"
     ]
    }
   ],
   "source": [
    "%pip install requests"
   ]
  },
  {
   "cell_type": "code",
   "execution_count": 2,
   "metadata": {},
   "outputs": [],
   "source": [
    "import requests\n",
    "import json\n",
    "import os"
   ]
  },
  {
   "cell_type": "code",
   "execution_count": 3,
   "metadata": {},
   "outputs": [],
   "source": [
    "#Define path\n",
    "SECRETS_FILE = '/Users/gmccurdy/repos/curriculum/scripts/utilities/secrets.json'\n",
    "\n",
    "# Load secrets\n",
    "with open(SECRETS_FILE, 'r') as file:\n",
    "    secrets = json.load(file)\n",
    "\n",
    "# Assign variables from the secrets\n",
    "API_URL = secrets.get('API_URL')\n",
    "API_KEY = secrets.get('API_KEY')\n",
    "COURSE_ID = secrets.get('COURSE_ID_HPRECALCULUS')\n",
    "\n",
    "#Define headers\n",
    "headers = {\n",
    "    'Authorization': f'Bearer {API_KEY}',\n",
    "    'Content-Type': 'application/json'\n",
    "}"
   ]
  },
  {
   "cell_type": "code",
   "execution_count": 4,
   "metadata": {},
   "outputs": [
    {
     "name": "stdout",
     "output_type": "stream",
     "text": [
      "Quiz created successfully with ID: 44031\n"
     ]
    }
   ],
   "source": [
    "# Create the quiz\n",
    "quiz_title = input('Quiz Title')\n",
    "quiz_description = input('Quiz Description')\n",
    "quiz_data = {\n",
    "    'quiz': {\n",
    "        'title': quiz_title,\n",
    "        'description': f'<p>{quiz_description}</p>',\n",
    "        'quiz_type': 'assignment',\n",
    "        'published': False\n",
    "    }\n",
    "}\n",
    "\n",
    "create_quiz_url = f'{API_URL}/api/v1/courses/{COURSE_ID}/quizzes'\n",
    "response = requests.post(create_quiz_url, headers=headers, json=quiz_data)\n",
    "\n",
    "if response.status_code == 200:\n",
    "    quiz = response.json()\n",
    "    quiz_id = quiz['id']\n",
    "    print(f'Quiz created successfully with ID: {quiz_id}')\n",
    "else:\n",
    "    print('Failed to create quiz')\n",
    "    print(f\"Status Code: {response.status_code}\")\n",
    "    print(response.text)"
   ]
  },
  {
   "cell_type": "code",
   "execution_count": 5,
   "metadata": {},
   "outputs": [],
   "source": [
    "# Multiple Choice Questions\n",
    "\n",
    "multiple_choice_questions = [\n",
    "    {\n",
    "        'question_name': 'Find sin(θ) given cos(θ) = 0.8 in a right triangle.',\n",
    "        'question_type': 'multiple_choice_question',\n",
    "        'question_text': '''If \\( \\cos \\theta = 0.8 \\) in a right triangle, what is \\( \\sin \\theta \\)?''',\n",
    "        'points_possible': 1,\n",
    "        'answers': [\n",
    "            {'text': r'\\( \\sin \\theta = 0.6 \\)', 'weight': 100},  # Correct answer\n",
    "            {'text': r'\\( \\sin \\theta = 0.8 \\)', 'weight': 0},\n",
    "            {'text': r'\\( \\sin \\theta = 0.75 \\)', 'weight': 0},\n",
    "            {'text': r'\\( \\sin \\theta = 0.5 \\)', 'weight': 0}\n",
    "        ]\n",
    "    },\n",
    "    {\n",
    "        'question_name': 'Find θ in degrees if tan(θ) = 1.',\n",
    "        'question_type': 'multiple_choice_question',\n",
    "        'question_text': '''If \\( \\tan \\theta = 1 \\), what is the measure of \\( \\theta \\) in degrees?''',\n",
    "        'points_possible': 1,\n",
    "        'answers': [\n",
    "            {'text': r'\\( \\theta = 45^\\circ \\)', 'weight': 100},  # Correct answer\n",
    "            {'text': r'\\( \\theta = 30^\\circ \\)', 'weight': 0},\n",
    "            {'text': r'\\( \\theta = 60^\\circ \\)', 'weight': 0},\n",
    "            {'text': r'\\( \\theta = 90^\\circ \\)', 'weight': 0}\n",
    "        ]\n",
    "    }\n",
    "]"
   ]
  },
  {
   "cell_type": "code",
   "execution_count": null,
   "metadata": {},
   "outputs": [],
   "source": [
    "essay_questions = [\n",
    "    \n",
    "]"
   ]
  },
  {
   "cell_type": "code",
   "execution_count": 7,
   "metadata": {},
   "outputs": [],
   "source": [
    "# Numerical Questions\n",
    "\n",
    "numerical_questions = [\n",
    "    {\n",
    "        'question_name': 'Find sec(θ) given sin(θ)',\n",
    "        'question_type': 'numerical_question',\n",
    "        'question_text': '''Given that \\( \\sin \\theta = 0.6 \\), find the exact value of \\( \\sec \\theta \\).''',\n",
    "        'points_possible': 1,\n",
    "        'answers': [\n",
    "            {\n",
    "                'numerical_answer_type': 'exact_answer',\n",
    "                'answer_exact': '1.25'\n",
    "            }\n",
    "        ]\n",
    "    },\n",
    "    {\n",
    "        'question_name': 'Find csc(θ) cos(θ) = 0.6.',\n",
    "        'question_type': 'numerical_question',\n",
    "        'question_text': '''Given that \\( \\sin \\theta = 0.6 \\), find the exact value of \\( \\sec \\theta \\).''',\n",
    "        'points_possible': 1,\n",
    "        'answers': [\n",
    "            {\n",
    "                'numerical_answer_type': 'exact_answer',\n",
    "                'answer_exact': '1.25'\n",
    "            }\n",
    "        ]\n",
    "    },\n",
    "    {\n",
    "        'question_name': 'Find cot(θ) in a right triangle with hypotenuse 10 and one side of 6.',\n",
    "        'question_type': 'numerical_question',\n",
    "        'question_text': '''In a right triangle with a hypotenuse of 10 units and an opposite side of 6 units, find the exact value of \\( \\cot \\theta \\). Round to 2 decimals.''',\n",
    "        'points_possible': 1,\n",
    "        'answers': [\n",
    "            {\n",
    "                'numerical_answer_type': 'exact_answer',\n",
    "                'answer_exact': '1.33'\n",
    "            }\n",
    "        ]\n",
    "    }\n",
    "]"
   ]
  },
  {
   "cell_type": "code",
   "execution_count": 8,
   "metadata": {},
   "outputs": [
    {
     "name": "stdout",
     "output_type": "stream",
     "text": [
      "Added question 'Find sin(θ) given cos(θ) = 0.8 in a right triangle.' successfully.\n",
      "Added question 'Find θ in degrees if tan(θ) = 1.' successfully.\n",
      "Added question 'Find sec(θ) given sin(θ)' successfully.\n",
      "Added question 'Find csc(θ) cos(θ) = 0.6.' successfully.\n",
      "Added question 'Find cot(θ) in a right triangle with hypotenuse 10 and one side of 6.' successfully.\n",
      "Added question 'Probability of Exactly 7 Heads' successfully.\n"
     ]
    }
   ],
   "source": [
    "# Combine all questions, including the essay question\n",
    "questions = multiple_choice_questions + numerical_questions + essay_questions\n",
    "\n",
    "# Add questions to the quiz\n",
    "for question in questions:\n",
    "    create_question_url = f'{API_URL}/api/v1/courses/{COURSE_ID}/quizzes/{quiz_id}/questions'\n",
    "\n",
    "    # Base question data\n",
    "    question_data = {\n",
    "        'question': {\n",
    "            'question_name': question['question_name'],\n",
    "            'question_type': question['question_type'],\n",
    "            'question_text': question['question_text'],\n",
    "            'points_possible': question.get('points_possible', 1)\n",
    "            # Do not include 'answers' here\n",
    "        }\n",
    "    }\n",
    "\n",
    "    # Include 'answers' only if they exist and the question is not an essay question\n",
    "    if 'answers' in question and question['question_type'] != 'essay_question':\n",
    "        question_data['question']['answers'] = question['answers']\n",
    "\n",
    "    # Include 'general_feedback' if it exists (for essay questions)\n",
    "    if 'general_feedback' in question:\n",
    "        question_data['question']['general_feedback'] = question['general_feedback']\n",
    "\n",
    "    # Send the request to create the question\n",
    "    response = requests.post(create_question_url, headers=headers, json=question_data)\n",
    "\n",
    "    if response.status_code == 201 or response.status_code == 200:\n",
    "        print(f\"Added question '{question['question_name']}' successfully.\")\n",
    "    else:\n",
    "        print(f\"Failed to add question '{question['question_name']}'\")\n",
    "        print(f\"Status Code: {response.status_code}\")\n",
    "        print(response.text)"
   ]
  }
 ],
 "metadata": {
  "kernelspec": {
   "display_name": "Python 3",
   "language": "python",
   "name": "python3"
  },
  "language_info": {
   "codemirror_mode": {
    "name": "ipython",
    "version": 3
   },
   "file_extension": ".py",
   "mimetype": "text/x-python",
   "name": "python",
   "nbconvert_exporter": "python",
   "pygments_lexer": "ipython3",
   "version": "3.9.6"
  }
 },
 "nbformat": 4,
 "nbformat_minor": 2
}
