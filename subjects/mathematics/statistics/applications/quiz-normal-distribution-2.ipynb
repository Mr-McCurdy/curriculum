{
 "cells": [
  {
   "cell_type": "code",
   "execution_count": 1,
   "metadata": {},
   "outputs": [
    {
     "name": "stdout",
     "output_type": "stream",
     "text": [
      "Defaulting to user installation because normal site-packages is not writeable\n",
      "Requirement already satisfied: requests in /Users/gmccurdy/Library/Python/3.9/lib/python/site-packages (2.32.3)\n",
      "Requirement already satisfied: certifi>=2017.4.17 in /Users/gmccurdy/Library/Python/3.9/lib/python/site-packages (from requests) (2022.12.7)\n",
      "Requirement already satisfied: charset-normalizer<4,>=2 in /Users/gmccurdy/Library/Python/3.9/lib/python/site-packages (from requests) (3.4.0)\n",
      "Requirement already satisfied: urllib3<3,>=1.21.1 in /Users/gmccurdy/Library/Python/3.9/lib/python/site-packages (from requests) (1.26.14)\n",
      "Requirement already satisfied: idna<4,>=2.5 in /Users/gmccurdy/Library/Python/3.9/lib/python/site-packages (from requests) (3.4)\n",
      "\u001b[33mWARNING: You are using pip version 21.2.4; however, version 24.2 is available.\n",
      "You should consider upgrading via the '/Library/Developer/CommandLineTools/usr/bin/python3 -m pip install --upgrade pip' command.\u001b[0m\n",
      "Note: you may need to restart the kernel to use updated packages.\n"
     ]
    }
   ],
   "source": [
    "%pip install requests"
   ]
  },
  {
   "cell_type": "code",
   "execution_count": 2,
   "metadata": {},
   "outputs": [],
   "source": [
    "import requests\n",
    "import json\n",
    "import os"
   ]
  },
  {
   "cell_type": "code",
   "execution_count": 3,
   "metadata": {},
   "outputs": [],
   "source": [
    "#Define path\n",
    "SECRETS_FILE = '/Users/gmccurdy/repos/curriculum/scripts/utilities/secrets.json'\n",
    "\n",
    "# Load secrets\n",
    "with open(SECRETS_FILE, 'r') as file:\n",
    "    secrets = json.load(file)\n",
    "\n",
    "# Assign variables from the secrets\n",
    "API_URL = secrets.get('API_URL')\n",
    "API_KEY = secrets.get('API_KEY')\n",
    "COURSE_ID = secrets.get('COURSE_ID_STATISTICS')\n",
    "\n",
    "#Define headers\n",
    "headers = {\n",
    "    'Authorization': f'Bearer {API_KEY}',\n",
    "    'Content-Type': 'application/json'\n",
    "}"
   ]
  },
  {
   "cell_type": "code",
   "execution_count": 4,
   "metadata": {},
   "outputs": [
    {
     "name": "stdout",
     "output_type": "stream",
     "text": [
      "Quiz created successfully with ID: 44034\n"
     ]
    }
   ],
   "source": [
    "# Create the quiz\n",
    "quiz_title = input('Quiz Title')\n",
    "quiz_description = input('Quiz Description')\n",
    "quiz_data = {\n",
    "    'quiz': {\n",
    "        'title': quiz_title,\n",
    "        'description': f'<p>{quiz_description}</p>',\n",
    "        'quiz_type': 'assignment',\n",
    "        'published': False\n",
    "    }\n",
    "}\n",
    "\n",
    "create_quiz_url = f'{API_URL}/api/v1/courses/{COURSE_ID}/quizzes'\n",
    "response = requests.post(create_quiz_url, headers=headers, json=quiz_data)\n",
    "\n",
    "if response.status_code == 200:\n",
    "    quiz = response.json()\n",
    "    quiz_id = quiz['id']\n",
    "    print(f'Quiz created successfully with ID: {quiz_id}')\n",
    "else:\n",
    "    print('Failed to create quiz')\n",
    "    print(f\"Status Code: {response.status_code}\")\n",
    "    print(response.text)"
   ]
  },
  {
   "cell_type": "code",
   "execution_count": 5,
   "metadata": {},
   "outputs": [],
   "source": [
    "multiple_choice_questions = [\n",
    "    {\n",
    "        'question_name': 'Probability Below a Given Value in Normal Distribution',\n",
    "        'question_type': 'multiple_choice_question',\n",
    "        'question_text': '''In a normal distribution with a mean of 50 and a standard deviation of 5, what is the probability that a randomly selected value is less than 45?''',\n",
    "        'points_possible': 1,\n",
    "        'answers': [\n",
    "            {'text': '0.1587', 'weight': 100},  # Correct answer: z = (45-50)/5 = -1, P(z < -1) ≈ 0.1587\n",
    "            {'text': '0.8413', 'weight': 0},\n",
    "            {'text': '0.5000', 'weight': 0},\n",
    "            {'text': '0.0228', 'weight': 0}\n",
    "        ]\n",
    "    },\n",
    "    {\n",
    "        'question_name': 'Z-Score for a Given Value',\n",
    "        'question_type': 'multiple_choice_question',\n",
    "        'question_text': '''What is the z-score corresponding to a value of 75 in a normal distribution with a mean of 70 and a standard deviation of 5?''',\n",
    "        'points_possible': 1,\n",
    "        'answers': [\n",
    "            {'text': '1.00', 'weight': 100},  # Correct answer: z = (75-70)/5 = 1.00\n",
    "            {'text': '0.50', 'weight': 0},\n",
    "            {'text': '1.50', 'weight': 0},\n",
    "            {'text': '2.00', 'weight': 0}\n",
    "        ]\n",
    "    },\n",
    "    {\n",
    "        'question_name': 'Probability Between Two Z-Scores',\n",
    "        'question_type': 'multiple_choice_question',\n",
    "        'question_text': '''In a standard normal distribution, what is the probability that a z-score is between -1 and 1?''',\n",
    "        'points_possible': 1,\n",
    "        'answers': [\n",
    "            {'text': '0.6826', 'weight': 100},  # Correct answer: Approximately 68.26%\n",
    "            {'text': '0.9544', 'weight': 0},\n",
    "            {'text': '0.3174', 'weight': 0},\n",
    "            {'text': '0.8413', 'weight': 0}\n",
    "        ]\n",
    "    }\n",
    "]"
   ]
  },
  {
   "cell_type": "code",
   "execution_count": 6,
   "metadata": {},
   "outputs": [],
   "source": [
    "essay_questions = [\n",
    "    \n",
    "]"
   ]
  },
  {
   "cell_type": "code",
   "execution_count": 7,
   "metadata": {},
   "outputs": [],
   "source": [
    "numerical_questions = [\n",
    "    {\n",
    "        'question_name': 'Z-Score Calculation for Given Value',\n",
    "        'question_type': 'numerical_question',\n",
    "        'question_text': '''In a normal distribution with a mean of 100 and a standard deviation of 15, what is the **z-score** for a value of 130? Round your answer to two decimal places.''',\n",
    "        'points_possible': 1,\n",
    "        'answers': [\n",
    "            {\n",
    "                'numerical_answer_type': 'exact_answer',\n",
    "                'answer_exact': '2.00'  # Correct answer: z = (130 - 100) / 15 = 30/15 = 2.00\n",
    "            }\n",
    "        ]\n",
    "    },\n",
    "    {\n",
    "        'question_name': 'Probability Greater Than a Z-Score',\n",
    "        'question_type': 'numerical_question',\n",
    "        'question_text': '''In a standard normal distribution, what is the **probability** that a z-score is greater than 1.5? Round your answer to four decimal places.''',\n",
    "        'points_possible': 1,\n",
    "        'answers': [\n",
    "            {\n",
    "                'numerical_answer_type': 'exact_answer',\n",
    "                'answer_exact': '0.0668'  # From z-table, P(z > 1.5) ≈ 0.0668\n",
    "            }\n",
    "        ]\n",
    "    }\n",
    "]"
   ]
  },
  {
   "cell_type": "code",
   "execution_count": 8,
   "metadata": {},
   "outputs": [
    {
     "name": "stdout",
     "output_type": "stream",
     "text": [
      "Added question 'Probability Below a Given Value in Normal Distribution' successfully.\n",
      "Added question 'Z-Score for a Given Value' successfully.\n",
      "Added question 'Probability Between Two Z-Scores' successfully.\n",
      "Added question 'Z-Score Calculation for Given Value' successfully.\n",
      "Added question 'Probability Greater Than a Z-Score' successfully.\n"
     ]
    }
   ],
   "source": [
    "# Combine all questions, including the essay question\n",
    "questions = multiple_choice_questions + numerical_questions + essay_questions\n",
    "\n",
    "# Add questions to the quiz\n",
    "for question in questions:\n",
    "    create_question_url = f'{API_URL}/api/v1/courses/{COURSE_ID}/quizzes/{quiz_id}/questions'\n",
    "\n",
    "    # Base question data\n",
    "    question_data = {\n",
    "        'question': {\n",
    "            'question_name': question['question_name'],\n",
    "            'question_type': question['question_type'],\n",
    "            'question_text': question['question_text'],\n",
    "            'points_possible': question.get('points_possible', 1)\n",
    "            # Do not include 'answers' here\n",
    "        }\n",
    "    }\n",
    "\n",
    "    # Include 'answers' only if they exist and the question is not an essay question\n",
    "    if 'answers' in question and question['question_type'] != 'essay_question':\n",
    "        question_data['question']['answers'] = question['answers']\n",
    "\n",
    "    # Include 'general_feedback' if it exists (for essay questions)\n",
    "    if 'general_feedback' in question:\n",
    "        question_data['question']['general_feedback'] = question['general_feedback']\n",
    "\n",
    "    # Send the request to create the question\n",
    "    response = requests.post(create_question_url, headers=headers, json=question_data)\n",
    "\n",
    "    if response.status_code == 201 or response.status_code == 200:\n",
    "        print(f\"Added question '{question['question_name']}' successfully.\")\n",
    "    else:\n",
    "        print(f\"Failed to add question '{question['question_name']}'\")\n",
    "        print(f\"Status Code: {response.status_code}\")\n",
    "        print(response.text)"
   ]
  }
 ],
 "metadata": {
  "kernelspec": {
   "display_name": "Python 3",
   "language": "python",
   "name": "python3"
  },
  "language_info": {
   "codemirror_mode": {
    "name": "ipython",
    "version": 3
   },
   "file_extension": ".py",
   "mimetype": "text/x-python",
   "name": "python",
   "nbconvert_exporter": "python",
   "pygments_lexer": "ipython3",
   "version": "3.9.6"
  }
 },
 "nbformat": 4,
 "nbformat_minor": 2
}
